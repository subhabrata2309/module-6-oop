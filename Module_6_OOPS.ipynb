{
  "nbformat": 4,
  "nbformat_minor": 0,
  "metadata": {
    "colab": {
      "provenance": []
    },
    "kernelspec": {
      "name": "python3",
      "display_name": "Python 3"
    },
    "language_info": {
      "name": "python"
    }
  },
  "cells": [
    {
      "cell_type": "markdown",
      "source": [
        "\n",
        "Q1. What is Object-Oriented Programming (OOP)?\n",
        "\n",
        "  Answer-\n",
        "  \n",
        "  OOP is a programming paradigm based on the concept of \"objects\", which combine data (attributes) and methods (functions). It helps code to be reused , modular, and organized.\n",
        "\n",
        "\n",
        "\n",
        "Q2. What is a class in OOP?\n",
        "\n",
        "Answer -\n",
        "\n",
        "A class is a blueprint or template for creating objects. It defines attributes and methods that it's objects (instances) will have.\n",
        "\n",
        "\n",
        "\n",
        "Q3. What is an object in OOP?\n",
        "\n",
        "Answer -\n",
        "\n",
        "An object is an instance of a class. It holds real values for the class's attributes and can use it's methods.\n",
        "\n",
        "\n",
        "Q4. What is the difference between abstraction and encapsulation?\n",
        "\n",
        "Answer -\n",
        "\n",
        "Abstraction : It hides the extra details and only focuses on what a function does. To use Abstraction we have to use the abstract module.\n",
        "\n",
        "Encapsulation : It the feature of OOP which allows us to hide data from unauthorized access. It focuses on how data is accessed and controlled and we do not need to import any module to use Encapsulation.\n",
        "\n",
        "\n",
        "Q5. What are dunder methods in Python?\n",
        "\n",
        "Answer -\n",
        "\n",
        "Dunder methods (double underscore), like __init__, __str__, and __add__, are special methods used to define object behavior for built-in operations.\n",
        "\n",
        "\n",
        "Q6. Explain the concept of inheritance in OOP.\n",
        "\n",
        "Answer -\n",
        "\n",
        "Inheritance is the feauture of using methods, properties, attributes of another class(parent class).\n",
        "\n",
        "\n",
        "\n",
        "Q7.  What is polymorphism in OOP?\n",
        "\n",
        "Answer -\n",
        "\n",
        "Polymorphism allows the same method name to behave differently based on the object (e.g., overridden methods in derived classes).\n",
        "\n",
        "\n",
        "\n",
        "Q8. How is encapsulation achieved in Python?\n",
        "\n",
        "Answer-\n",
        "\n",
        "Encapsulation is done by making attributes private (prefixing with __) and providing access through getters/setters.\n",
        "\n",
        "\n",
        "Q9. What is a constructor in Python?\n",
        "\n",
        "Answer -\n",
        "\n",
        "A constructor is a special method __init__() used to initialize objects when they are created.\n",
        "\n",
        "\n",
        "Q10. What are class and static methods in Python?\n",
        "\n",
        "Answer -\n",
        "\n",
        "In Python, **class methods** are methods that are bound to the class and not the instance. They use the `@classmethod` decorator and take `cls` as the first parameter, allowing them to access or modify class-level variables.\n",
        "\n",
        "On the other hand, **static methods** are independent of both the class and instance. They use the `@staticmethod` decorator and do not take `self` or `cls` as a parameter. Static methods are typically used for utility functions that relate to the class but don't need to access its data.\n",
        "\n",
        "\n",
        "\n",
        "Q11. What is method overloading in Python?\n",
        "\n",
        "Answer-\n",
        "\n",
        "Python achieves similar behavior using default arguments, *args, or **kwargs to handle different numbers or types of arguments in a single method.\n",
        "\n",
        "\n",
        "Q12. What is method overriding in OOP?\n",
        "\n",
        "Answer -\n",
        "\n",
        "Method overriding in Object-Oriented Programming (OOP) is when a child class provides a specific implementation of a method that is already defined in its parent class.\n",
        "The method in the child class has the same name, parameters, and signature as the one in the parent class. This allows the child class to customize or completely replace the inherited behavior.\n",
        "\n",
        "\n",
        "\n",
        "Q13. What is a property decorator in Python?\n",
        "\n",
        "Answer -\n",
        "\n",
        "The @property decorator in Python is used to define a method as a read-only attribute, allowing you to access it like a variable, while still executing a function behind the scenes. It is commonly used for encapsulation, where you want to control access to private attributes without changing how they’re accessed externally.\n",
        "\n",
        "\n",
        "Q14. Why is polymorphism important in OOP?\n",
        "\n",
        "Answer -Polymorphism allows objects of different classes to be treated through a common interface, enabling code flexibility, reusability, and scalability. It lets you use the same method name for different types, simplifying function and method calls.\n",
        "\n",
        "\n",
        "Q15. What is an abstract class in Python?\n",
        "\n",
        "Answer - An abstract class in Python is a class that cannot be instantiated directly and is used to define a common interface for its subclasses. It’s created using the abc module and must have at least one @abstractmethod.\n",
        "\n",
        "\n",
        "Q16. What are the advantages of OOP?\n",
        "\n",
        "Answer -\n",
        "\n",
        "The advantages of Object Oriented programming are -\n",
        "1. **Modularity:**\n",
        "   Code is organized into classes and objects, thus it is easier to manage and maintain the code\n",
        "\n",
        "2. **Reusability:**\n",
        "   Classes can be reused across programs, and inheritance allows new classes to reuse existing functionality.\n",
        "\n",
        "3. **Encapsulation:**\n",
        "   Data and methods are bundled together, and access to sensitive data can be controlled using private/public attributes.\n",
        "\n",
        "4. **Abstraction:**\n",
        "   Hides complex implementation details and exposes only essential features, making code easier to use and understand.\n",
        "\n",
        "5. **Polymorphism:**\n",
        "   The same method name can behave differently depending on the object, improving code flexibility and extensibility.\n",
        "\n",
        "6. **Scalability and Maintainability:**\n",
        "   OOP makes it easier to scale up complex programs and maintain them by separating concerns logically.\n",
        "\n",
        "7. **Real-World Mapping:**\n",
        "   Objects in code can represent real-world entities, making programs more intuitive and aligned with real-life modeling.\n",
        "\n",
        "\n",
        "\n",
        "Q17.  What is the difference between a class variable and an instance variable?\n",
        "\n",
        "Answer -\n",
        "\n",
        "A class variable is shared across all instances of a class.\n",
        "\n",
        "An instance variable is unique to each object and is defined using self.\n",
        "\n",
        "\n",
        "\n",
        "Q18. What is multiple inheritance in Python?\n",
        "\n",
        "Answer -\n",
        "\n",
        "Multiple inheritance means a class can inherit from more than one parent class, gaining attributes and methods from all.\n",
        "\n",
        "\n",
        "Q19. Explain the purpose of __str__ and __repr__ methods in Python.\n",
        "\n",
        "Answer -\n",
        "\n",
        "__str__ returns a user-friendly string (used by print()).\n",
        "\n",
        "__repr__ returns a developer-friendly string meant for debugging and object reconstruction.\n",
        "\n",
        "\n",
        "Q20. What is the significance of the ‘super()’ function in Python?\n",
        "\n",
        "Answer -\n",
        "\n",
        "The super() function is used to call methods from a parent class, especially useful in inheritance to extend or override functionality.\n",
        "\n",
        "\n",
        "\n",
        "Q21. What is the significance of the __del__ method in Python?\n",
        "\n",
        "Answer -\n",
        "\n",
        "The __del__ method is a destructor that gets called when an object is about to be destroyed. It is used to perform cleanup actions like closing files or releasing resources.\n",
        "\n",
        "\n",
        "Q22. What is the difference between @staticmethod and @classmethod in Python?\n",
        "\n",
        "Answer -\n",
        "\n",
        "@staticmethod: Doesn't take self or cls, used for utility functions.\n",
        "\n",
        "@classmethod: Takes cls as the first argument and can modify class state.\n",
        "\n",
        "\n",
        "\n",
        "Q23.  How does polymorphism work in Python with inheritance?\n",
        "\n",
        "Answer-\n",
        "\n",
        "Python uses dynamic dispatch, so when a method is called on an object, it checks the actual class at runtime. If the method is overridden in the child class, that version is executed.\n",
        "\n",
        "\n",
        "\n",
        "Q24. What is method chaining in Python OOP?\n",
        "\n",
        "Answer-\n",
        "\n",
        "Method chaining is a technique where multiple methods are called sequentially on the same object in a single line, by returning self from each method.\n",
        "\n",
        "\n",
        "\n",
        "Q25.What is the purpose of the __call__ method in Python?\n",
        "\n",
        "Answer-\n",
        "\n",
        "The __call__ method allows an object to be called like a function. You define it to make the object behave like a callable.\n",
        "\n"
      ],
      "metadata": {
        "id": "ccHDcRiMw0v8"
      }
    },
    {
      "cell_type": "code",
      "execution_count": 1,
      "metadata": {
        "colab": {
          "base_uri": "https://localhost:8080/"
        },
        "id": "wLqnViZOrGN7",
        "outputId": "b3341498-3861-4d80-9098-8d5dd842083b"
      },
      "outputs": [
        {
          "output_type": "stream",
          "name": "stdout",
          "text": [
            "The animal makes a sound.\n",
            "Bark!\n"
          ]
        }
      ],
      "source": [
        "# 1. Create a parent class Animal with a method speak() that prints a generic message. Create a child class Dog that overrides the speak() method to print \"Bark!\".\n",
        "\n",
        "class Animal:\n",
        "    def speak(self):\n",
        "        print(\"The animal makes a sound.\")\n",
        "class Dog(Animal):\n",
        "    def speak(self):\n",
        "        print(\"Bark!\")\n",
        "a = Animal()\n",
        "a.speak()\n",
        "\n",
        "d = Dog()\n",
        "d.speak()\n"
      ]
    },
    {
      "cell_type": "code",
      "source": [
        "# 2. Write a program to create an abstract class Shape with a method area(). Derive classes Circle and Rectangle from it and implement the area() method in both.\n",
        "\n",
        "from abc import ABC, abstractmethod\n",
        "import math\n",
        "class Shape(ABC):\n",
        "    @abstractmethod\n",
        "    def area(self):\n",
        "        pass\n",
        "class Circle(Shape):\n",
        "    def __init__(self, radius):\n",
        "        self.radius = radius\n",
        "    def area(self):\n",
        "        return math.pi * self.radius * self.radius\n",
        "class Rectangle(Shape):\n",
        "    def __init__(self, length, width):\n",
        "        self.length = length\n",
        "        self.width = width\n",
        "    def area(self):\n",
        "        return self.length * self.width\n",
        "c = Circle(5)\n",
        "print(\"Area of Circle:\", c.area())\n",
        "r = Rectangle(4, 6)\n",
        "print(\"Area of Rectangle:\", r.area())\n"
      ],
      "metadata": {
        "colab": {
          "base_uri": "https://localhost:8080/"
        },
        "id": "LASVhehRrffa",
        "outputId": "308e74a5-0646-4370-fe2e-ffe0901fe07a"
      },
      "execution_count": 2,
      "outputs": [
        {
          "output_type": "stream",
          "name": "stdout",
          "text": [
            "Area of Circle: 78.53981633974483\n",
            "Area of Rectangle: 24\n"
          ]
        }
      ]
    },
    {
      "cell_type": "code",
      "source": [],
      "metadata": {
        "id": "ecV8gWfHwp6Q"
      },
      "execution_count": null,
      "outputs": []
    },
    {
      "cell_type": "code",
      "source": [
        "# 3. Implement a multi-level inheritance scenario where a class Vehicle has an attribute type. Derive a class Car  and further derive a class ElectricCar that adds a battery attribute.\n",
        "\n",
        "class Vehicle:\n",
        "    def __init__(self, vehicle_type):\n",
        "        self.type = vehicle_type\n",
        "class Car(Vehicle):\n",
        "    def __init__(self, vehicle_type, brand):\n",
        "        super().__init__(vehicle_type)\n",
        "        self.brand = brand\n",
        "\n",
        "class ElectricCar(Car):\n",
        "    def __init__(self, vehicle_type, brand, battery_capacity):\n",
        "        super().__init__(vehicle_type, brand)\n",
        "        self.battery = battery_capacity\n",
        "\n",
        "    def display_info(self):\n",
        "        print(f\"Type: {self.type}\")\n",
        "        print(f\"Brand: {self.brand}\")\n",
        "        print(f\"Battery: {self.battery} kWh\")\n",
        "e_car = ElectricCar(\"Four Wheeler\", \"BYD\", 115)\n",
        "e_car.display_info()\n"
      ],
      "metadata": {
        "colab": {
          "base_uri": "https://localhost:8080/"
        },
        "id": "mmCv455Yr3jc",
        "outputId": "dfa8193b-ad54-4346-f683-173c472d6c7b"
      },
      "execution_count": 4,
      "outputs": [
        {
          "output_type": "stream",
          "name": "stdout",
          "text": [
            "Type: Four Wheeler\n",
            "Brand: BYD\n",
            "Battery: 115 kWh\n"
          ]
        }
      ]
    },
    {
      "cell_type": "code",
      "source": [
        "# 4. Demonstrate polymorphism by creating a base class Bird with a method fly(). Create two derived classes Sparrow and Penguin that override the fly() method.\n",
        "\n",
        "\n",
        "class Bird:\n",
        "    def fly(self):\n",
        "        print(\"Some birds can fly.\")\n",
        "class Sparrow(Bird):\n",
        "    def fly(self):\n",
        "        print(\"Sparrow flies high in the sky.\")\n",
        "class Penguin(Bird):\n",
        "    def fly(self):\n",
        "        print(\"Penguins can't fly but they swim well.\")\n",
        "def bird_flight(bird):\n",
        "    bird.fly()\n",
        "b1 = Sparrow()\n",
        "b2 = Penguin()\n",
        "bird_flight(b1)\n",
        "bird_flight(b2)\n"
      ],
      "metadata": {
        "colab": {
          "base_uri": "https://localhost:8080/"
        },
        "id": "7mvYv6-bsWd6",
        "outputId": "fb96b558-f13d-48f7-f8bb-61f19f1ddd3b"
      },
      "execution_count": 5,
      "outputs": [
        {
          "output_type": "stream",
          "name": "stdout",
          "text": [
            "Sparrow flies high in the sky.\n",
            "Penguins can't fly but they swim well.\n"
          ]
        }
      ]
    },
    {
      "cell_type": "code",
      "source": [
        "# 5. Write a program to demonstrate encapsulation by creating a class BankAccount with private attributes balance and methods to deposit, withdraw, and check balance.\n",
        "\n",
        "class BankAccount:\n",
        "    def __init__(self, initial_balance=0):\n",
        "        self.__balance = initial_balance\n",
        "    def deposit(self, amount):\n",
        "        if amount > 0:\n",
        "            self.__balance += amount\n",
        "            print(f\"Deposited: ₹{amount}\")\n",
        "        else:\n",
        "            print(\"Invalid deposit amount.\")\n",
        "\n",
        "    def withdraw(self, amount):\n",
        "        if 0 < amount <= self.__balance:\n",
        "            self.__balance -= amount\n",
        "            print(f\"Withdrawn: ₹{amount}\")\n",
        "        else:\n",
        "            print(\"Insufficient balance or invalid amount.\")\n",
        "\n",
        "    def check_balance(self):\n",
        "        print(f\"Current Balance: ₹{self.__balance}\")\n",
        "account = BankAccount(1000)\n",
        "account.deposit(500)\n",
        "account.withdraw(200)\n",
        "account.check_balance()\n"
      ],
      "metadata": {
        "colab": {
          "base_uri": "https://localhost:8080/"
        },
        "id": "3M3WMLcBs3av",
        "outputId": "4434a792-77b1-4f82-fd4e-c0ce98cc281e"
      },
      "execution_count": 6,
      "outputs": [
        {
          "output_type": "stream",
          "name": "stdout",
          "text": [
            "Deposited: ₹500\n",
            "Withdrawn: ₹200\n",
            "Current Balance: ₹1300\n"
          ]
        }
      ]
    },
    {
      "cell_type": "code",
      "source": [
        "# 6. Demonstrate runtime polymorphism using a method play() in a base class Instrument. Derive classes Guitar and Piano that implement their own version of play().\n",
        "\n",
        "class Instrument:\n",
        "    def play(self):\n",
        "        print(\"Instrument is playing...\")\n",
        "class Guitar(Instrument):\n",
        "    def play(self):\n",
        "        print(\"Strumming the guitar!\")\n",
        "class Piano(Instrument):\n",
        "    def play(self):\n",
        "        print(\"Playing the piano keys!\")\n",
        "\n",
        "def start_music(instrument):\n",
        "    instrument.play()\n",
        "\n",
        "g = Guitar()\n",
        "p = Piano()\n",
        "\n",
        "start_music(g)\n",
        "start_music(p)\n"
      ],
      "metadata": {
        "colab": {
          "base_uri": "https://localhost:8080/"
        },
        "id": "SqHnHrAFtMAZ",
        "outputId": "25010a51-9aea-4fbf-b489-bfd0f47bfc17"
      },
      "execution_count": 7,
      "outputs": [
        {
          "output_type": "stream",
          "name": "stdout",
          "text": [
            "Strumming the guitar!\n",
            "Playing the piano keys!\n"
          ]
        }
      ]
    },
    {
      "cell_type": "code",
      "source": [
        "# 7. Create a class MathOperations with a class method add_numbers() to add two numbers and a static method subtract_numbers() to subtract two numbers.\n",
        "\n",
        "class MathOperations:\n",
        "    @classmethod\n",
        "    def add_numbers(cls, a, b):\n",
        "        return a + b\n",
        "\n",
        "    @staticmethod\n",
        "    def subtract_numbers(a, b):\n",
        "        return a - b\n",
        "\n",
        "print(\"Addition:\", MathOperations.add_numbers(10, 5))\n",
        "print(\"Subtraction:\", MathOperations.subtract_numbers(10, 5))\n"
      ],
      "metadata": {
        "colab": {
          "base_uri": "https://localhost:8080/"
        },
        "id": "mXi7ANVnti-x",
        "outputId": "b9537e40-db89-4feb-8f81-6369dff8de7d"
      },
      "execution_count": 8,
      "outputs": [
        {
          "output_type": "stream",
          "name": "stdout",
          "text": [
            "Addition: 15\n",
            "Subtraction: 5\n"
          ]
        }
      ]
    },
    {
      "cell_type": "code",
      "source": [
        "# 8. Implement a class Person with a class method to count the total number of persons created.\n",
        "\n",
        "class Person:\n",
        "    count = 0\n",
        "    def __init__(self, name):\n",
        "        self.name = name\n",
        "        Person.count += 1\n",
        "    @classmethod\n",
        "    def total_persons(cls):\n",
        "        return cls.count\n",
        "p1 = Person(\"Alice\")\n",
        "p2 = Person(\"Bob\")\n",
        "p3 = Person(\"Charlie\")\n",
        "\n",
        "print(\"Total persons created:\", Person.total_persons())  # Output: 3\n"
      ],
      "metadata": {
        "colab": {
          "base_uri": "https://localhost:8080/"
        },
        "id": "90mB7bpDt7Lj",
        "outputId": "41de32ba-3135-45df-ab85-1eefce873300"
      },
      "execution_count": 9,
      "outputs": [
        {
          "output_type": "stream",
          "name": "stdout",
          "text": [
            "Total persons created: 3\n"
          ]
        }
      ]
    },
    {
      "cell_type": "code",
      "source": [
        "# 9. Write a class Fraction with attributes numerator and denominator. Override the str method to display the fraction as \"numerator/denominator\".\n",
        "\n",
        "class Fraction:\n",
        "    def __init__(self, numerator, denominator):\n",
        "        self.numerator = numerator\n",
        "        self.denominator = denominator\n",
        "\n",
        "    def __str__(self):\n",
        "        return f\"{self.numerator}/{self.denominator}\"\n",
        "\n",
        "f1 = Fraction(3, 4)\n",
        "f2 = Fraction(7, 2)\n",
        "\n",
        "print(f1)\n",
        "print(f2)\n"
      ],
      "metadata": {
        "colab": {
          "base_uri": "https://localhost:8080/"
        },
        "id": "9WViQM5NuJuQ",
        "outputId": "7a28381c-3161-410b-bb10-10121cef82f3"
      },
      "execution_count": 11,
      "outputs": [
        {
          "output_type": "stream",
          "name": "stdout",
          "text": [
            "3/4\n",
            "7/2\n"
          ]
        }
      ]
    },
    {
      "cell_type": "code",
      "source": [
        "# 10. Demonstrate operator overloading by creating a class Vector and overriding the add method to add two vectors.\n",
        "\n",
        "class Vector:\n",
        "    def __init__(self, x, y):\n",
        "        self.x = x\n",
        "        self.y = y\n",
        "\n",
        "    def __add__(self, other):\n",
        "        return Vector(self.x + other.x, self.y + other.y)\n",
        "\n",
        "    def __str__(self):\n",
        "        return f\"Vector({self.x}, {self.y})\"\n",
        "v1 = Vector(2, 3)\n",
        "v2 = Vector(4, 5)\n",
        "v3 = v1 + v2\n",
        "print(v3)\n"
      ],
      "metadata": {
        "colab": {
          "base_uri": "https://localhost:8080/"
        },
        "id": "Esm2CltHuY2y",
        "outputId": "053dd262-17fd-4530-f62e-b7f76d5a6a9c"
      },
      "execution_count": 12,
      "outputs": [
        {
          "output_type": "stream",
          "name": "stdout",
          "text": [
            "Vector(6, 8)\n"
          ]
        }
      ]
    },
    {
      "cell_type": "code",
      "source": [
        "# 11. Create a class Person with attributes name and age. Add a method greet() that prints \"Hello, my name is {name} and I am {age} years old.\"\n",
        "\n",
        "class Person:\n",
        "    def __init__(self, name, age):\n",
        "        self.name = name\n",
        "        self.age = age\n",
        "\n",
        "    def greet(self):\n",
        "        print(f\"Hello, my name is {self.name} and I am {self.age} years old.\")\n",
        "p = Person(\"Subhabrata\", 22)\n",
        "p.greet()\n"
      ],
      "metadata": {
        "colab": {
          "base_uri": "https://localhost:8080/"
        },
        "id": "Vwrth-0rus1t",
        "outputId": "eb5eafca-0e7c-418f-feb1-70ff854dbb09"
      },
      "execution_count": 13,
      "outputs": [
        {
          "output_type": "stream",
          "name": "stdout",
          "text": [
            "Hello, my name is Subhabrata and I am 22 years old.\n"
          ]
        }
      ]
    },
    {
      "cell_type": "code",
      "source": [
        "# 12. Implement a class Student with attributes name and grades. Create a method average_grade() to compute the average of the grades.\n",
        "\n",
        "class Student:\n",
        "    def __init__(self, name, grades):\n",
        "        self.name = name\n",
        "        self.grades = grades\n",
        "    def average_grade(self):\n",
        "        if self.grades:\n",
        "            return sum(self.grades) / len(self.grades)\n",
        "        else:\n",
        "            return 0\n",
        "\n",
        "s = Student(\"Subhabrata\", [85, 90, 78, 92])\n",
        "print(f\"{s.name}'s average grade is: {s.average_grade():.2f}\")\n"
      ],
      "metadata": {
        "colab": {
          "base_uri": "https://localhost:8080/"
        },
        "id": "H8zTgwIQvF3b",
        "outputId": "d5cb3d6e-8776-45c2-a83d-3816ef8e030d"
      },
      "execution_count": 14,
      "outputs": [
        {
          "output_type": "stream",
          "name": "stdout",
          "text": [
            "Subhabrata's average grade is: 86.25\n"
          ]
        }
      ]
    },
    {
      "cell_type": "code",
      "source": [
        "# 13. Create a class Rectangle with methods set_dimensions() to set the dimensions and area() to calculate the area.\n",
        "\n",
        "class Rectangle:\n",
        "    def __init__(self):\n",
        "        self.length = 0\n",
        "        self.width = 0\n",
        "\n",
        "    def set_dimensions(self, length, width):\n",
        "        self.length = length\n",
        "        self.width = width\n",
        "\n",
        "    def area(self):\n",
        "        return self.length * self.width\n",
        "\n",
        "rect = Rectangle()\n",
        "rect.set_dimensions(5, 4)\n",
        "print(\"Area of Rectangle:\", rect.area())\n"
      ],
      "metadata": {
        "colab": {
          "base_uri": "https://localhost:8080/"
        },
        "id": "7UumdU5RvStx",
        "outputId": "7bc8a2ce-ca2a-4dc8-f1ed-7eac3774a487"
      },
      "execution_count": 15,
      "outputs": [
        {
          "output_type": "stream",
          "name": "stdout",
          "text": [
            "Area of Rectangle: 20\n"
          ]
        }
      ]
    },
    {
      "cell_type": "code",
      "source": [
        "# 14. Create a class Employee with a method calculate_salary() that computes the salary based on hours worked and hourly rate. Create a derived class Manager that adds a bonus to the salary.\n",
        "\n",
        "class Employee:\n",
        "    def __init__(self, name, hours_worked, hourly_rate):\n",
        "        self.name = name\n",
        "        self.hours_worked = hours_worked\n",
        "        self.hourly_rate = hourly_rate\n",
        "\n",
        "    def calculate_salary(self):\n",
        "        return self.hours_worked * self.hourly_rate\n",
        "\n",
        "class Manager(Employee):\n",
        "    def __init__(self, name, hours_worked, hourly_rate, bonus):\n",
        "        super().__init__(name, hours_worked, hourly_rate)\n",
        "        self.bonus = bonus\n",
        "\n",
        "    def calculate_salary(self):\n",
        "        base_salary = super().calculate_salary()\n",
        "        return base_salary + self.bonus\n",
        "\n",
        "emp = Employee(\"John\", 40, 300)\n",
        "print(f\"{emp.name}'s Salary: ₹{emp.calculate_salary()}\")\n",
        "\n",
        "mgr = Manager(\"Alice\", 40, 400, 5000)\n",
        "print(f\"{mgr.name}'s Salary with Bonus: ₹{mgr.calculate_salary()}\")\n"
      ],
      "metadata": {
        "colab": {
          "base_uri": "https://localhost:8080/"
        },
        "id": "Io45I8Ltvfw_",
        "outputId": "a93702a4-1db0-4a46-f583-9e490f79801a"
      },
      "execution_count": 16,
      "outputs": [
        {
          "output_type": "stream",
          "name": "stdout",
          "text": [
            "John's Salary: ₹12000\n",
            "Alice's Salary with Bonus: ₹21000\n"
          ]
        }
      ]
    },
    {
      "cell_type": "code",
      "source": [
        "# 15. Create a class Product with attributes name, price, and quantity. Implement a method total_price() that calculates the total price of the product.\n",
        "\n",
        "class Product:\n",
        "    def __init__(self, name, price, quantity):\n",
        "        self.name = name\n",
        "        self.price = price\n",
        "        self.quantity = quantity\n",
        "\n",
        "    def total_price(self):\n",
        "        return self.price * self.quantity\n",
        "\n",
        "p1 = Product(\"Laptop\", 45000, 2)\n",
        "print(f\"Total price for {p1.name}s: ₹{p1.total_price()}\")\n"
      ],
      "metadata": {
        "colab": {
          "base_uri": "https://localhost:8080/"
        },
        "id": "Trsp5V02vxC-",
        "outputId": "da90c2b6-6527-481c-e408-e5a0b0b5d158"
      },
      "execution_count": 17,
      "outputs": [
        {
          "output_type": "stream",
          "name": "stdout",
          "text": [
            "Total price for Laptops: ₹90000\n"
          ]
        }
      ]
    },
    {
      "cell_type": "code",
      "source": [
        "# 16. Create a class Animal with an abstract method sound(). Create two derived classes Cow and Sheep that implement the sound() method.\n",
        "\n",
        "from abc import ABC, abstractmethod\n",
        "\n",
        "class Animal(ABC):\n",
        "    @abstractmethod\n",
        "    def sound(self):\n",
        "        pass\n",
        "class Cow(Animal):\n",
        "    def sound(self):\n",
        "        print(\"Cow says Moo!\")\n",
        "\n",
        "class Sheep(Animal):\n",
        "    def sound(self):\n",
        "        print(\"Sheep says Baa!\")\n",
        "\n",
        "c = Cow()\n",
        "s = Sheep()\n",
        "c.sound()\n",
        "s.sound()\n"
      ],
      "metadata": {
        "colab": {
          "base_uri": "https://localhost:8080/"
        },
        "id": "M0Y5ui00v-Bk",
        "outputId": "4f5b4fbf-9325-46e7-89f7-4f1c52bac6f8"
      },
      "execution_count": 18,
      "outputs": [
        {
          "output_type": "stream",
          "name": "stdout",
          "text": [
            "Cow says Moo!\n",
            "Sheep says Baa!\n"
          ]
        }
      ]
    },
    {
      "cell_type": "code",
      "source": [
        "# 17. Create a class Book with attributes title, author, and year_published. Add a method get_book_info() that returns a formatted string with the book's details.\n",
        "\n",
        "class Book:\n",
        "    def __init__(self, title, author, year_published):\n",
        "        self.title = title\n",
        "        self.author = author\n",
        "        self.year_published = year_published\n",
        "\n",
        "    def get_book_info(self):\n",
        "        return f\"'{self.title}' by {self.author} (Published in {self.year_published})\"\n",
        "b1 = Book(\"The Alchemist\", \"Paulo Coelho\", 1988)\n",
        "print(b1.get_book_info())\n"
      ],
      "metadata": {
        "colab": {
          "base_uri": "https://localhost:8080/"
        },
        "id": "ziPjLVVZwPui",
        "outputId": "05866980-0b90-4f2c-9704-3e759dd8af6f"
      },
      "execution_count": 19,
      "outputs": [
        {
          "output_type": "stream",
          "name": "stdout",
          "text": [
            "'The Alchemist' by Paulo Coelho (Published in 1988)\n"
          ]
        }
      ]
    },
    {
      "cell_type": "code",
      "source": [
        "# 18. Create a class House with attributes address and price. Create a derived class Mansion that adds an attribute number_of_rooms.\n",
        "\n",
        "class House:\n",
        "    def __init__(self, address, price):\n",
        "        self.address = address\n",
        "        self.price = price\n",
        "class Mansion(House):\n",
        "    def __init__(self, address, price, number_of_rooms):\n",
        "        super().__init__(address, price)\n",
        "        self.number_of_rooms = number_of_rooms\n",
        "\n",
        "    def display_info(self):\n",
        "        print(f\"Address: {self.address}\")\n",
        "        print(f\"Price: ₹{self.price}\")\n",
        "        print(f\"Number of Rooms: {self.number_of_rooms}\")\n",
        "\n",
        "m1 = Mansion(\"123 Elite Avenue, Mumbai\", 50000000, 10)\n",
        "m1.display_info()\n"
      ],
      "metadata": {
        "colab": {
          "base_uri": "https://localhost:8080/"
        },
        "id": "qNESh5zgwb8t",
        "outputId": "ed46495b-87d5-445c-8763-40e30508b183"
      },
      "execution_count": 20,
      "outputs": [
        {
          "output_type": "stream",
          "name": "stdout",
          "text": [
            "Address: 123 Elite Avenue, Mumbai\n",
            "Price: ₹50000000\n",
            "Number of Rooms: 10\n"
          ]
        }
      ]
    }
  ]
}